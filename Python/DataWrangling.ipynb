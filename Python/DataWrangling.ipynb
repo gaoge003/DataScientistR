{
  "nbformat": 4,
  "nbformat_minor": 0,
  "metadata": {
    "colab": {
      "name": "DataWrangling.ipynb",
      "provenance": [],
      "collapsed_sections": [],
      "toc_visible": true,
      "include_colab_link": true
    },
    "kernelspec": {
      "name": "python3",
      "display_name": "Python 3"
    }
  },
  "cells": [
    {
      "cell_type": "markdown",
      "metadata": {
        "id": "view-in-github",
        "colab_type": "text"
      },
      "source": [
        "<a href=\"https://colab.research.google.com/github/happyrabbit/IntroDataScience/blob/master/Python/DataWrangling.ipynb\" target=\"_parent\"><img src=\"https://colab.research.google.com/assets/colab-badge.svg\" alt=\"Open In Colab\"/></a>"
      ]
    },
    {
      "cell_type": "code",
      "metadata": {
        "id": "J56qNXdLtLUi",
        "colab_type": "code",
        "colab": {}
      },
      "source": [
        "# You can use the following two lines to check the python version\n",
        "# import sys\n",
        "# print(sys.version)\n",
        "\n",
        "# Import packages\n",
        "import pandas as pd\n",
        "import numpy as np\n",
        "from scipy import stats "
      ],
      "execution_count": 0,
      "outputs": []
    },
    {
      "cell_type": "markdown",
      "metadata": {
        "id": "7PEoE-T_gKIZ",
        "colab_type": "text"
      },
      "source": [
        "# Read and write data\n",
        "\n",
        "You can read data using `read_csv` in `pandas`"
      ]
    },
    {
      "cell_type": "code",
      "metadata": {
        "id": "kkAcZnqQv8aO",
        "colab_type": "code",
        "colab": {}
      },
      "source": [
        "# Read the data\n",
        "SimDat = pd.read_csv(\"http://bit.ly/2P5gTw4\")"
      ],
      "execution_count": 0,
      "outputs": []
    },
    {
      "cell_type": "code",
      "metadata": {
        "id": "Rk_DTWGWgzSv",
        "colab_type": "code",
        "outputId": "f779b9e5-e977-460b-86e7-6c50bab6b9e8",
        "colab": {
          "base_uri": "https://localhost:8080/",
          "height": 224
        }
      },
      "source": [
        "## Check the head of the data\n",
        "SimDat.head()"
      ],
      "execution_count": 3,
      "outputs": [
        {
          "output_type": "execute_result",
          "data": {
            "text/html": [
              "<div>\n",
              "<style scoped>\n",
              "    .dataframe tbody tr th:only-of-type {\n",
              "        vertical-align: middle;\n",
              "    }\n",
              "\n",
              "    .dataframe tbody tr th {\n",
              "        vertical-align: top;\n",
              "    }\n",
              "\n",
              "    .dataframe thead th {\n",
              "        text-align: right;\n",
              "    }\n",
              "</style>\n",
              "<table border=\"1\" class=\"dataframe\">\n",
              "  <thead>\n",
              "    <tr style=\"text-align: right;\">\n",
              "      <th></th>\n",
              "      <th>age</th>\n",
              "      <th>gender</th>\n",
              "      <th>income</th>\n",
              "      <th>house</th>\n",
              "      <th>store_exp</th>\n",
              "      <th>online_exp</th>\n",
              "      <th>store_trans</th>\n",
              "      <th>online_trans</th>\n",
              "      <th>Q1</th>\n",
              "      <th>Q2</th>\n",
              "      <th>Q3</th>\n",
              "      <th>Q4</th>\n",
              "      <th>Q5</th>\n",
              "      <th>Q6</th>\n",
              "      <th>Q7</th>\n",
              "      <th>Q8</th>\n",
              "      <th>Q9</th>\n",
              "      <th>Q10</th>\n",
              "      <th>segment</th>\n",
              "    </tr>\n",
              "  </thead>\n",
              "  <tbody>\n",
              "    <tr>\n",
              "      <th>0</th>\n",
              "      <td>57</td>\n",
              "      <td>Female</td>\n",
              "      <td>120963.400958</td>\n",
              "      <td>Yes</td>\n",
              "      <td>529.134363</td>\n",
              "      <td>303.512475</td>\n",
              "      <td>2</td>\n",
              "      <td>2</td>\n",
              "      <td>4</td>\n",
              "      <td>2</td>\n",
              "      <td>1</td>\n",
              "      <td>2</td>\n",
              "      <td>1</td>\n",
              "      <td>4</td>\n",
              "      <td>1</td>\n",
              "      <td>4</td>\n",
              "      <td>2</td>\n",
              "      <td>4</td>\n",
              "      <td>Price</td>\n",
              "    </tr>\n",
              "    <tr>\n",
              "      <th>1</th>\n",
              "      <td>63</td>\n",
              "      <td>Female</td>\n",
              "      <td>122008.104950</td>\n",
              "      <td>Yes</td>\n",
              "      <td>478.005781</td>\n",
              "      <td>109.529710</td>\n",
              "      <td>4</td>\n",
              "      <td>2</td>\n",
              "      <td>4</td>\n",
              "      <td>1</td>\n",
              "      <td>1</td>\n",
              "      <td>2</td>\n",
              "      <td>1</td>\n",
              "      <td>4</td>\n",
              "      <td>1</td>\n",
              "      <td>4</td>\n",
              "      <td>1</td>\n",
              "      <td>4</td>\n",
              "      <td>Price</td>\n",
              "    </tr>\n",
              "    <tr>\n",
              "      <th>2</th>\n",
              "      <td>59</td>\n",
              "      <td>Male</td>\n",
              "      <td>114202.295294</td>\n",
              "      <td>Yes</td>\n",
              "      <td>490.810731</td>\n",
              "      <td>279.249582</td>\n",
              "      <td>7</td>\n",
              "      <td>2</td>\n",
              "      <td>5</td>\n",
              "      <td>2</td>\n",
              "      <td>1</td>\n",
              "      <td>2</td>\n",
              "      <td>1</td>\n",
              "      <td>4</td>\n",
              "      <td>1</td>\n",
              "      <td>4</td>\n",
              "      <td>1</td>\n",
              "      <td>4</td>\n",
              "      <td>Price</td>\n",
              "    </tr>\n",
              "    <tr>\n",
              "      <th>3</th>\n",
              "      <td>60</td>\n",
              "      <td>Male</td>\n",
              "      <td>113616.337078</td>\n",
              "      <td>Yes</td>\n",
              "      <td>347.809004</td>\n",
              "      <td>141.669752</td>\n",
              "      <td>10</td>\n",
              "      <td>2</td>\n",
              "      <td>5</td>\n",
              "      <td>2</td>\n",
              "      <td>1</td>\n",
              "      <td>3</td>\n",
              "      <td>1</td>\n",
              "      <td>4</td>\n",
              "      <td>1</td>\n",
              "      <td>4</td>\n",
              "      <td>2</td>\n",
              "      <td>4</td>\n",
              "      <td>Price</td>\n",
              "    </tr>\n",
              "    <tr>\n",
              "      <th>4</th>\n",
              "      <td>51</td>\n",
              "      <td>Male</td>\n",
              "      <td>124252.552787</td>\n",
              "      <td>Yes</td>\n",
              "      <td>379.625940</td>\n",
              "      <td>112.237177</td>\n",
              "      <td>4</td>\n",
              "      <td>4</td>\n",
              "      <td>4</td>\n",
              "      <td>1</td>\n",
              "      <td>1</td>\n",
              "      <td>3</td>\n",
              "      <td>1</td>\n",
              "      <td>4</td>\n",
              "      <td>1</td>\n",
              "      <td>4</td>\n",
              "      <td>2</td>\n",
              "      <td>4</td>\n",
              "      <td>Price</td>\n",
              "    </tr>\n",
              "  </tbody>\n",
              "</table>\n",
              "</div>"
            ],
            "text/plain": [
              "   age  gender         income house   store_exp  ...  Q7  Q8  Q9  Q10  segment\n",
              "0   57  Female  120963.400958   Yes  529.134363  ...   1   4   2    4    Price\n",
              "1   63  Female  122008.104950   Yes  478.005781  ...   1   4   1    4    Price\n",
              "2   59    Male  114202.295294   Yes  490.810731  ...   1   4   1    4    Price\n",
              "3   60    Male  113616.337078   Yes  347.809004  ...   1   4   2    4    Price\n",
              "4   51    Male  124252.552787   Yes  379.625940  ...   1   4   2    4    Price\n",
              "\n",
              "[5 rows x 19 columns]"
            ]
          },
          "metadata": {
            "tags": []
          },
          "execution_count": 3
        }
      ]
    },
    {
      "cell_type": "markdown",
      "metadata": {
        "id": "NBOfMbl9hub-",
        "colab_type": "text"
      },
      "source": [
        "# `apply` function\n",
        "\n",
        "Python has a similar `apply` function. Let’s use some data with context to help you better understand the functions. Get the mean and standard deviation of all numerical variables in the dataset `SimDat`. "
      ]
    },
    {
      "cell_type": "code",
      "metadata": {
        "id": "mXC9i3J4h2Gm",
        "colab_type": "code",
        "colab": {}
      },
      "source": [
        "# Select numerical variables (i.e. exclude object type)\n",
        "SubDat = SimDat.select_dtypes(include = ['int64', 'float64'])\n",
        "# Or exclude object type\n",
        "# SubDat = SimDat.select_dtypes(exclude = ['object'])"
      ],
      "execution_count": 0,
      "outputs": []
    },
    {
      "cell_type": "markdown",
      "metadata": {
        "id": "jFGGeDCIkY1h",
        "colab_type": "text"
      },
      "source": [
        "The data frame `SubDat` only includes numeric columns. Now we can go head and use `apply` function to get mean and standard deviation for each column:"
      ]
    },
    {
      "cell_type": "code",
      "metadata": {
        "id": "Br0UnJ5HjA6M",
        "colab_type": "code",
        "outputId": "921ebc32-c3ad-4a34-d872-2a83f4f0aa38",
        "colab": {
          "base_uri": "https://localhost:8080/",
          "height": 306
        }
      },
      "source": [
        "# axis = 0 or ‘index’: apply function to each column.\n",
        "# axis = 1 or ‘columns’: apply function to each row.\n",
        "# Get the mean\n",
        "SubDat.apply(np.mean, axis = 0)\n",
        "# Get the standard deviation\n",
        "SubDat.apply(np.std, axis = 0)"
      ],
      "execution_count": 5,
      "outputs": [
        {
          "output_type": "execute_result",
          "data": {
            "text/plain": [
              "age                16.408607\n",
              "income          49811.737217\n",
              "store_exp        2773.012238\n",
              "online_exp       1730.358479\n",
              "store_trans         3.693711\n",
              "online_trans        7.952980\n",
              "Q1                  1.449413\n",
              "Q2                  1.167763\n",
              "Q3                  1.401405\n",
              "Q4                  1.154483\n",
              "Q5                  1.283735\n",
              "Q6                  1.437809\n",
              "Q7                  1.455213\n",
              "Q8                  1.153769\n",
              "Q9                  1.117933\n",
              "Q10                 1.135606\n",
              "dtype: float64"
            ]
          },
          "metadata": {
            "tags": []
          },
          "execution_count": 5
        }
      ]
    },
    {
      "cell_type": "markdown",
      "metadata": {
        "id": "ZPKh0l349iha",
        "colab_type": "text"
      },
      "source": [
        "# Tidy and Reshape Data"
      ]
    },
    {
      "cell_type": "markdown",
      "metadata": {
        "id": "qLVLKubBmCRx",
        "colab_type": "text"
      },
      "source": [
        "We will illustrate the data manipulations in order:\n",
        "\n",
        "- Display\n",
        "- Subset\n",
        "- Summarize\n",
        "- Create new variable\n",
        "- Merge\n",
        "- Reshape data"
      ]
    },
    {
      "cell_type": "markdown",
      "metadata": {
        "id": "q1SckQZSd_Dy",
        "colab_type": "text"
      },
      "source": [
        "## Display\n",
        "\n",
        "`describe` function can generate descriptive statistics including those that summarize the central tendency, dispersion and shape of a dataset’s distribution, excluding NaN values."
      ]
    },
    {
      "cell_type": "code",
      "metadata": {
        "id": "KJDc1UiZeU0K",
        "colab_type": "code",
        "colab": {
          "base_uri": "https://localhost:8080/",
          "height": 317
        },
        "outputId": "2c0e4ee8-e1b6-40dd-ddcd-7698d64138b3"
      },
      "source": [
        "SimDat.describe()"
      ],
      "execution_count": 6,
      "outputs": [
        {
          "output_type": "execute_result",
          "data": {
            "text/html": [
              "<div>\n",
              "<style scoped>\n",
              "    .dataframe tbody tr th:only-of-type {\n",
              "        vertical-align: middle;\n",
              "    }\n",
              "\n",
              "    .dataframe tbody tr th {\n",
              "        vertical-align: top;\n",
              "    }\n",
              "\n",
              "    .dataframe thead th {\n",
              "        text-align: right;\n",
              "    }\n",
              "</style>\n",
              "<table border=\"1\" class=\"dataframe\">\n",
              "  <thead>\n",
              "    <tr style=\"text-align: right;\">\n",
              "      <th></th>\n",
              "      <th>age</th>\n",
              "      <th>income</th>\n",
              "      <th>store_exp</th>\n",
              "      <th>online_exp</th>\n",
              "      <th>store_trans</th>\n",
              "      <th>online_trans</th>\n",
              "      <th>Q1</th>\n",
              "      <th>Q2</th>\n",
              "      <th>Q3</th>\n",
              "      <th>Q4</th>\n",
              "      <th>Q5</th>\n",
              "      <th>Q6</th>\n",
              "      <th>Q7</th>\n",
              "      <th>Q8</th>\n",
              "      <th>Q9</th>\n",
              "      <th>Q10</th>\n",
              "    </tr>\n",
              "  </thead>\n",
              "  <tbody>\n",
              "    <tr>\n",
              "      <th>count</th>\n",
              "      <td>1000.000000</td>\n",
              "      <td>816.000000</td>\n",
              "      <td>1000.000000</td>\n",
              "      <td>1000.000000</td>\n",
              "      <td>1000.000000</td>\n",
              "      <td>1000.000000</td>\n",
              "      <td>1000.000000</td>\n",
              "      <td>1000.000000</td>\n",
              "      <td>1000.000000</td>\n",
              "      <td>1000.000000</td>\n",
              "      <td>1000.000000</td>\n",
              "      <td>1000.000000</td>\n",
              "      <td>1000.000000</td>\n",
              "      <td>1000.000000</td>\n",
              "      <td>1000.000000</td>\n",
              "      <td>1000.000000</td>\n",
              "    </tr>\n",
              "    <tr>\n",
              "      <th>mean</th>\n",
              "      <td>38.840000</td>\n",
              "      <td>113543.065222</td>\n",
              "      <td>1356.850523</td>\n",
              "      <td>2120.181187</td>\n",
              "      <td>5.350000</td>\n",
              "      <td>13.546000</td>\n",
              "      <td>3.101000</td>\n",
              "      <td>1.823000</td>\n",
              "      <td>1.992000</td>\n",
              "      <td>2.763000</td>\n",
              "      <td>2.945000</td>\n",
              "      <td>2.448000</td>\n",
              "      <td>3.434000</td>\n",
              "      <td>2.396000</td>\n",
              "      <td>3.085000</td>\n",
              "      <td>2.320000</td>\n",
              "    </tr>\n",
              "    <tr>\n",
              "      <th>std</th>\n",
              "      <td>16.416818</td>\n",
              "      <td>49842.287197</td>\n",
              "      <td>2774.399785</td>\n",
              "      <td>1731.224308</td>\n",
              "      <td>3.695559</td>\n",
              "      <td>7.956959</td>\n",
              "      <td>1.450139</td>\n",
              "      <td>1.168348</td>\n",
              "      <td>1.402106</td>\n",
              "      <td>1.155061</td>\n",
              "      <td>1.284377</td>\n",
              "      <td>1.438529</td>\n",
              "      <td>1.455941</td>\n",
              "      <td>1.154347</td>\n",
              "      <td>1.118493</td>\n",
              "      <td>1.136174</td>\n",
              "    </tr>\n",
              "    <tr>\n",
              "      <th>min</th>\n",
              "      <td>16.000000</td>\n",
              "      <td>41775.637023</td>\n",
              "      <td>-500.000000</td>\n",
              "      <td>68.817228</td>\n",
              "      <td>1.000000</td>\n",
              "      <td>1.000000</td>\n",
              "      <td>1.000000</td>\n",
              "      <td>1.000000</td>\n",
              "      <td>1.000000</td>\n",
              "      <td>1.000000</td>\n",
              "      <td>1.000000</td>\n",
              "      <td>1.000000</td>\n",
              "      <td>1.000000</td>\n",
              "      <td>1.000000</td>\n",
              "      <td>1.000000</td>\n",
              "      <td>1.000000</td>\n",
              "    </tr>\n",
              "    <tr>\n",
              "      <th>25%</th>\n",
              "      <td>25.000000</td>\n",
              "      <td>85832.393634</td>\n",
              "      <td>204.976456</td>\n",
              "      <td>420.341127</td>\n",
              "      <td>3.000000</td>\n",
              "      <td>6.000000</td>\n",
              "      <td>2.000000</td>\n",
              "      <td>1.000000</td>\n",
              "      <td>1.000000</td>\n",
              "      <td>2.000000</td>\n",
              "      <td>1.750000</td>\n",
              "      <td>1.000000</td>\n",
              "      <td>2.500000</td>\n",
              "      <td>1.000000</td>\n",
              "      <td>2.000000</td>\n",
              "      <td>1.000000</td>\n",
              "    </tr>\n",
              "    <tr>\n",
              "      <th>50%</th>\n",
              "      <td>36.000000</td>\n",
              "      <td>93868.682835</td>\n",
              "      <td>328.980863</td>\n",
              "      <td>1941.855436</td>\n",
              "      <td>4.000000</td>\n",
              "      <td>14.000000</td>\n",
              "      <td>3.000000</td>\n",
              "      <td>1.000000</td>\n",
              "      <td>1.000000</td>\n",
              "      <td>3.000000</td>\n",
              "      <td>4.000000</td>\n",
              "      <td>2.000000</td>\n",
              "      <td>4.000000</td>\n",
              "      <td>2.000000</td>\n",
              "      <td>4.000000</td>\n",
              "      <td>2.000000</td>\n",
              "    </tr>\n",
              "    <tr>\n",
              "      <th>75%</th>\n",
              "      <td>53.000000</td>\n",
              "      <td>124572.400926</td>\n",
              "      <td>597.293077</td>\n",
              "      <td>2440.774823</td>\n",
              "      <td>7.000000</td>\n",
              "      <td>20.000000</td>\n",
              "      <td>4.000000</td>\n",
              "      <td>2.000000</td>\n",
              "      <td>3.000000</td>\n",
              "      <td>4.000000</td>\n",
              "      <td>4.000000</td>\n",
              "      <td>4.000000</td>\n",
              "      <td>4.000000</td>\n",
              "      <td>3.000000</td>\n",
              "      <td>4.000000</td>\n",
              "      <td>3.000000</td>\n",
              "    </tr>\n",
              "    <tr>\n",
              "      <th>max</th>\n",
              "      <td>300.000000</td>\n",
              "      <td>319704.337941</td>\n",
              "      <td>50000.000000</td>\n",
              "      <td>9479.442310</td>\n",
              "      <td>20.000000</td>\n",
              "      <td>36.000000</td>\n",
              "      <td>5.000000</td>\n",
              "      <td>5.000000</td>\n",
              "      <td>5.000000</td>\n",
              "      <td>5.000000</td>\n",
              "      <td>5.000000</td>\n",
              "      <td>5.000000</td>\n",
              "      <td>5.000000</td>\n",
              "      <td>5.000000</td>\n",
              "      <td>5.000000</td>\n",
              "      <td>5.000000</td>\n",
              "    </tr>\n",
              "  </tbody>\n",
              "</table>\n",
              "</div>"
            ],
            "text/plain": [
              "               age         income  ...           Q9          Q10\n",
              "count  1000.000000     816.000000  ...  1000.000000  1000.000000\n",
              "mean     38.840000  113543.065222  ...     3.085000     2.320000\n",
              "std      16.416818   49842.287197  ...     1.118493     1.136174\n",
              "min      16.000000   41775.637023  ...     1.000000     1.000000\n",
              "25%      25.000000   85832.393634  ...     2.000000     1.000000\n",
              "50%      36.000000   93868.682835  ...     4.000000     2.000000\n",
              "75%      53.000000  124572.400926  ...     4.000000     3.000000\n",
              "max     300.000000  319704.337941  ...     5.000000     5.000000\n",
              "\n",
              "[8 rows x 16 columns]"
            ]
          },
          "metadata": {
            "tags": []
          },
          "execution_count": 6
        }
      ]
    },
    {
      "cell_type": "markdown",
      "metadata": {
        "id": "S3M9nH0a-KEA",
        "colab_type": "text"
      },
      "source": [
        "## Subset\n"
      ]
    },
    {
      "cell_type": "markdown",
      "metadata": {
        "id": "UaY4UPg4bOF3",
        "colab_type": "text"
      },
      "source": [
        "### Subset rows"
      ]
    },
    {
      "cell_type": "code",
      "metadata": {
        "id": "ZZvO8DQ191Y0",
        "colab_type": "code",
        "colab": {}
      },
      "source": [
        "# Select rows that meet logical criteria. For example, get rows with income more than 300000\n",
        "SimDat[SimDat.income > 300000]\n",
        "\n",
        "# Select rows by position\n",
        "SimDat.iloc[5:10]\n",
        "\n",
        "# Select the first n rows\n",
        "SimDat.head(3)\n",
        "\n",
        "# select the last n rows\n",
        "SimDat.tail(3)\n",
        "\n",
        "# Randomly select fraction\n",
        "SimDat.sample(frac = 0.5)\n",
        "\n",
        "# or use n = 10 to randomly select n rows\n",
        "SimDat.sample(n = 10)\n",
        "\n",
        "# Delete duplicated rows.\n",
        "SimDat.drop_duplicates()"
      ],
      "execution_count": 0,
      "outputs": []
    },
    {
      "cell_type": "markdown",
      "metadata": {
        "id": "OtsmhdrpVJiu",
        "colab_type": "text"
      },
      "source": [
        "### Subset columns\n",
        "\n"
      ]
    },
    {
      "cell_type": "code",
      "metadata": {
        "id": "wF6VhPtxVZA0",
        "colab_type": "code",
        "colab": {}
      },
      "source": [
        "# Select multiple columns with specific names.\n",
        "SimDat[['age','gender','income']]\n",
        "\n",
        "# select Q1 to Q5\n",
        "# create a list of names\n",
        "nam_list =  ['Q' + str(i) for i in list(range(1,6)) ]\n",
        "SimDat[nam_list]\n",
        "\n",
        "# select one column\n",
        "SimDat.gender\n",
        "# or\n",
        "SimDat['gender']\n",
        "\n",
        "# select columns whose name contains a character string\n",
        "# match column name contains \"_\"\n",
        "SimDat.filter(regex = '_')\n",
        "\n",
        "# select columns whose name starts with a character string\n",
        "SimDat.filter(regex = '^Q')\n",
        "# select columns whose name ends with a character string\n",
        "SimDat.filter(regex = 'e$')\n",
        "\n",
        "# select columns between age and online_exp\n",
        "SimDat.loc[:, 'age':'online_exp']\n",
        "\n",
        "# select all columns except for age\n",
        "SimDat.drop(columns = ['age'])"
      ],
      "execution_count": 0,
      "outputs": []
    },
    {
      "cell_type": "markdown",
      "metadata": {
        "id": "HnPUtOsSbBm4",
        "colab_type": "text"
      },
      "source": [
        "## Summarize\n",
        "\n",
        "A standard marketing problem is customer segmentation. It usually starts with designing survey and collecting data. Then run a cluster analysis on the data to get customer segments. Once we have different segments, the next is to understand how each group of customer look like by summarizing some key metrics. For example, we can do the following data aggregation for different segments of clothes customers."
      ]
    },
    {
      "cell_type": "code",
      "metadata": {
        "id": "-nMYUXO5ZApu",
        "colab_type": "code",
        "colab": {
          "base_uri": "https://localhost:8080/",
          "height": 173
        },
        "outputId": "958ba790-6b9d-46b8-ff58-73eeff1595f3"
      },
      "source": [
        "df = (SimDat\n",
        "      .groupby('segment', as_index=False)\n",
        "      .agg({'age': lambda x: round(x.mean(), 0),\n",
        "            'gender': lambda x: round((x =='Female').mean(), 2),\n",
        "            'house': lambda x: round((x =='Yes').mean(), 2),\n",
        "            'online_exp': lambda x: round(stats.trim_mean(x, 0.1), 0),\n",
        "            'store_trans': lambda x: round(x.mean(), 1),\n",
        "            'online_trans': lambda x: round(x.mean(),1)\n",
        "            })\n",
        "      )\n",
        "df"
      ],
      "execution_count": 60,
      "outputs": [
        {
          "output_type": "execute_result",
          "data": {
            "text/html": [
              "<div>\n",
              "<style scoped>\n",
              "    .dataframe tbody tr th:only-of-type {\n",
              "        vertical-align: middle;\n",
              "    }\n",
              "\n",
              "    .dataframe tbody tr th {\n",
              "        vertical-align: top;\n",
              "    }\n",
              "\n",
              "    .dataframe thead th {\n",
              "        text-align: right;\n",
              "    }\n",
              "</style>\n",
              "<table border=\"1\" class=\"dataframe\">\n",
              "  <thead>\n",
              "    <tr style=\"text-align: right;\">\n",
              "      <th></th>\n",
              "      <th>segment</th>\n",
              "      <th>age</th>\n",
              "      <th>gender</th>\n",
              "      <th>house</th>\n",
              "      <th>online_exp</th>\n",
              "      <th>store_trans</th>\n",
              "      <th>online_trans</th>\n",
              "    </tr>\n",
              "  </thead>\n",
              "  <tbody>\n",
              "    <tr>\n",
              "      <th>0</th>\n",
              "      <td>Conspicuous</td>\n",
              "      <td>42</td>\n",
              "      <td>0.32</td>\n",
              "      <td>0.86</td>\n",
              "      <td>4891.0</td>\n",
              "      <td>10.9</td>\n",
              "      <td>11.1</td>\n",
              "    </tr>\n",
              "    <tr>\n",
              "      <th>1</th>\n",
              "      <td>Price</td>\n",
              "      <td>60</td>\n",
              "      <td>0.45</td>\n",
              "      <td>0.94</td>\n",
              "      <td>205.0</td>\n",
              "      <td>6.1</td>\n",
              "      <td>3.0</td>\n",
              "    </tr>\n",
              "    <tr>\n",
              "      <th>2</th>\n",
              "      <td>Quality</td>\n",
              "      <td>35</td>\n",
              "      <td>0.47</td>\n",
              "      <td>0.34</td>\n",
              "      <td>2012.0</td>\n",
              "      <td>2.9</td>\n",
              "      <td>16.0</td>\n",
              "    </tr>\n",
              "    <tr>\n",
              "      <th>3</th>\n",
              "      <td>Style</td>\n",
              "      <td>24</td>\n",
              "      <td>0.81</td>\n",
              "      <td>0.27</td>\n",
              "      <td>1958.0</td>\n",
              "      <td>3.0</td>\n",
              "      <td>21.1</td>\n",
              "    </tr>\n",
              "  </tbody>\n",
              "</table>\n",
              "</div>"
            ],
            "text/plain": [
              "       segment  age  gender  house  online_exp  store_trans  online_trans\n",
              "0  Conspicuous   42    0.32   0.86      4891.0         10.9          11.1\n",
              "1        Price   60    0.45   0.94       205.0          6.1           3.0\n",
              "2      Quality   35    0.47   0.34      2012.0          2.9          16.0\n",
              "3        Style   24    0.81   0.27      1958.0          3.0          21.1"
            ]
          },
          "metadata": {
            "tags": []
          },
          "execution_count": 60
        }
      ]
    },
    {
      "cell_type": "markdown",
      "metadata": {
        "id": "xeYLZmr2gh8N",
        "colab_type": "text"
      },
      "source": [
        "Now, let’s peel the onion.\n",
        "\n",
        "`SimDat` is the data you want to work on. `groupby('segment', as_index=False)` tells python that in the following steps you want to summarise by variable `segment`. By default, for aggregated output, the function returns object with group labels as the index. By setting `as_index = False`, we treat the group labels as normal column values which is effectively “SQL-style” grouped output.\n",
        "\n",
        "Here we only summarize data by one categorical variable, but you can group by multiple variables, such as `groupby(['segment','house'], as_index=False)`. \n",
        "\n",
        "`agg` aggregates the groups using function. For example, `'age': lambda x: round(x.mean(), 0)` tells python the following things:\n",
        "\n",
        "- Calculate the mean of column age ignoring missing value for each customer segment\n",
        "- Round the result to the specified number of decimal places\n",
        "\n",
        "The rest of the commands are similar. In the end, we calculate the following for each segment:\n",
        "\n",
        "- `age`: average age for each segment\n",
        "- `gender`: percentage female for each segment\n",
        "- `house`: percentage of people who own a house\n",
        "- `stroe_exp`: average expense in store\n",
        "- `online_exp`: average expense online\n",
        "- `store_trans`: average times of transactions in the store\n",
        "- `online_trans`: average times of online transactions\n",
        "There is a lot of information you can extract from those simple averages.\n",
        "\n",
        "You may notice that Style group purchase more frequently online (`online_trans`) but the expense (`online_exp`) is not higher. It makes us wonder what is the average expense each time, so you have a better idea about the price range of the group.\n"
      ]
    },
    {
      "cell_type": "markdown",
      "metadata": {
        "id": "6_3XsHvuqBve",
        "colab_type": "text"
      },
      "source": [
        "\n",
        "## Create new variable\n",
        "\n",
        "The analytical process is aggregated instead of independent steps. The current step will shed new light on what to do next. Sometimes you need to go back to fix something in the previous steps. Let’s check average one-time online and in-store purchase:\n"
      ]
    },
    {
      "cell_type": "code",
      "metadata": {
        "id": "25DRoFbCgijX",
        "colab_type": "code",
        "colab": {
          "base_uri": "https://localhost:8080/",
          "height": 173
        },
        "outputId": "dd6188af-7f86-4ea0-8b45-609b26f374fc"
      },
      "source": [
        "df2 = (SimDat\n",
        "      .groupby('segment', as_index=False)\n",
        "      .agg({'online_exp': lambda x: round(x.sum(), 0),\n",
        "            'store_exp': lambda x: round(x.sum(), 0),\n",
        "            'online_trans': lambda x: round(x.sum(),0),\n",
        "            'store_trans': lambda x: round(x.sum(), 0)          \n",
        "            })\n",
        "      )\n",
        "\n",
        "# create new columns: \n",
        "df2['avg_online_exp'] = df2.online_exp/df2.online_trans\n",
        "df2['avg_store_exp'] = df2.store_exp/df2.store_trans\n",
        "df2[['segment','avg_online_exp', 'avg_store_exp']]"
      ],
      "execution_count": 69,
      "outputs": [
        {
          "output_type": "execute_result",
          "data": {
            "text/html": [
              "<div>\n",
              "<style scoped>\n",
              "    .dataframe tbody tr th:only-of-type {\n",
              "        vertical-align: middle;\n",
              "    }\n",
              "\n",
              "    .dataframe tbody tr th {\n",
              "        vertical-align: top;\n",
              "    }\n",
              "\n",
              "    .dataframe thead th {\n",
              "        text-align: right;\n",
              "    }\n",
              "</style>\n",
              "<table border=\"1\" class=\"dataframe\">\n",
              "  <thead>\n",
              "    <tr style=\"text-align: right;\">\n",
              "      <th></th>\n",
              "      <th>segment</th>\n",
              "      <th>avg_online_exp</th>\n",
              "      <th>avg_store_exp</th>\n",
              "    </tr>\n",
              "  </thead>\n",
              "  <tbody>\n",
              "    <tr>\n",
              "      <th>0</th>\n",
              "      <td>Conspicuous</td>\n",
              "      <td>442.274492</td>\n",
              "      <td>479.245404</td>\n",
              "    </tr>\n",
              "    <tr>\n",
              "      <th>1</th>\n",
              "      <td>Price</td>\n",
              "      <td>69.278003</td>\n",
              "      <td>81.303188</td>\n",
              "    </tr>\n",
              "    <tr>\n",
              "      <th>2</th>\n",
              "      <td>Quality</td>\n",
              "      <td>126.051972</td>\n",
              "      <td>105.115183</td>\n",
              "    </tr>\n",
              "    <tr>\n",
              "      <th>3</th>\n",
              "      <td>Style</td>\n",
              "      <td>92.833694</td>\n",
              "      <td>121.069549</td>\n",
              "    </tr>\n",
              "  </tbody>\n",
              "</table>\n",
              "</div>"
            ],
            "text/plain": [
              "       segment  avg_online_exp  avg_store_exp\n",
              "0  Conspicuous      442.274492     479.245404\n",
              "1        Price       69.278003      81.303188\n",
              "2      Quality      126.051972     105.115183\n",
              "3        Style       92.833694     121.069549"
            ]
          },
          "metadata": {
            "tags": []
          },
          "execution_count": 69
        }
      ]
    },
    {
      "cell_type": "markdown",
      "metadata": {
        "id": "2PdzsLgemwlq",
        "colab_type": "text"
      },
      "source": [
        "\n",
        "Price group has the lowest averaged one-time purchase. The Conspicuous group will pay the highest price. \n",
        "\n",
        "Another comman task is to check which column has missing values. It requires the program to look at each column in the data."
      ]
    },
    {
      "cell_type": "code",
      "metadata": {
        "id": "0j8voHRyq4N3",
        "colab_type": "code",
        "colab": {
          "base_uri": "https://localhost:8080/",
          "height": 357
        },
        "outputId": "908a80b2-31ba-4cdf-9c60-b4cc112b4ec0"
      },
      "source": [
        "SimDat.isna().any()"
      ],
      "execution_count": 75,
      "outputs": [
        {
          "output_type": "execute_result",
          "data": {
            "text/plain": [
              "age             False\n",
              "gender          False\n",
              "income           True\n",
              "house           False\n",
              "store_exp       False\n",
              "online_exp      False\n",
              "store_trans     False\n",
              "online_trans    False\n",
              "Q1              False\n",
              "Q2              False\n",
              "Q3              False\n",
              "Q4              False\n",
              "Q5              False\n",
              "Q6              False\n",
              "Q7              False\n",
              "Q8              False\n",
              "Q9              False\n",
              "Q10             False\n",
              "segment         False\n",
              "dtype: bool"
            ]
          },
          "metadata": {
            "tags": []
          },
          "execution_count": 75
        }
      ]
    },
    {
      "cell_type": "markdown",
      "metadata": {
        "id": "nWod8qZ8q3Ld",
        "colab_type": "text"
      },
      "source": [
        "## Merge"
      ]
    },
    {
      "cell_type": "markdown",
      "metadata": {
        "id": "OBBgycsAQOH_",
        "colab_type": "text"
      },
      "source": [
        "We create two baby data sets to show how merge works.\n",
        "\n"
      ]
    },
    {
      "cell_type": "code",
      "metadata": {
        "id": "4Jm4DrAkslnK",
        "colab_type": "code",
        "colab": {
          "base_uri": "https://localhost:8080/",
          "height": 142
        },
        "outputId": "7965537c-bbef-4e2d-c80a-cf42e8465942"
      },
      "source": [
        "dfx = pd.DataFrame({'ID': [\"A\", \"B\", \"C\"],\n",
        "                   'x1': [1, 2, 3]})\n",
        "dfx"
      ],
      "execution_count": 79,
      "outputs": [
        {
          "output_type": "execute_result",
          "data": {
            "text/html": [
              "<div>\n",
              "<style scoped>\n",
              "    .dataframe tbody tr th:only-of-type {\n",
              "        vertical-align: middle;\n",
              "    }\n",
              "\n",
              "    .dataframe tbody tr th {\n",
              "        vertical-align: top;\n",
              "    }\n",
              "\n",
              "    .dataframe thead th {\n",
              "        text-align: right;\n",
              "    }\n",
              "</style>\n",
              "<table border=\"1\" class=\"dataframe\">\n",
              "  <thead>\n",
              "    <tr style=\"text-align: right;\">\n",
              "      <th></th>\n",
              "      <th>ID</th>\n",
              "      <th>x1</th>\n",
              "    </tr>\n",
              "  </thead>\n",
              "  <tbody>\n",
              "    <tr>\n",
              "      <th>0</th>\n",
              "      <td>A</td>\n",
              "      <td>1</td>\n",
              "    </tr>\n",
              "    <tr>\n",
              "      <th>1</th>\n",
              "      <td>B</td>\n",
              "      <td>2</td>\n",
              "    </tr>\n",
              "    <tr>\n",
              "      <th>2</th>\n",
              "      <td>C</td>\n",
              "      <td>3</td>\n",
              "    </tr>\n",
              "  </tbody>\n",
              "</table>\n",
              "</div>"
            ],
            "text/plain": [
              "  ID  x1\n",
              "0  A   1\n",
              "1  B   2\n",
              "2  C   3"
            ]
          },
          "metadata": {
            "tags": []
          },
          "execution_count": 79
        }
      ]
    },
    {
      "cell_type": "code",
      "metadata": {
        "id": "Zcb9aHt9Q98j",
        "colab_type": "code",
        "colab": {
          "base_uri": "https://localhost:8080/",
          "height": 142
        },
        "outputId": "69e96667-a341-437f-80b7-89b5aa843e92"
      },
      "source": [
        "dfy = pd.DataFrame({'ID': [\"B\", \"C\", \"D\"],\n",
        "                   'y1': [True, True, False]})\n",
        "dfy"
      ],
      "execution_count": 80,
      "outputs": [
        {
          "output_type": "execute_result",
          "data": {
            "text/html": [
              "<div>\n",
              "<style scoped>\n",
              "    .dataframe tbody tr th:only-of-type {\n",
              "        vertical-align: middle;\n",
              "    }\n",
              "\n",
              "    .dataframe tbody tr th {\n",
              "        vertical-align: top;\n",
              "    }\n",
              "\n",
              "    .dataframe thead th {\n",
              "        text-align: right;\n",
              "    }\n",
              "</style>\n",
              "<table border=\"1\" class=\"dataframe\">\n",
              "  <thead>\n",
              "    <tr style=\"text-align: right;\">\n",
              "      <th></th>\n",
              "      <th>ID</th>\n",
              "      <th>y1</th>\n",
              "    </tr>\n",
              "  </thead>\n",
              "  <tbody>\n",
              "    <tr>\n",
              "      <th>0</th>\n",
              "      <td>B</td>\n",
              "      <td>True</td>\n",
              "    </tr>\n",
              "    <tr>\n",
              "      <th>1</th>\n",
              "      <td>C</td>\n",
              "      <td>True</td>\n",
              "    </tr>\n",
              "    <tr>\n",
              "      <th>2</th>\n",
              "      <td>D</td>\n",
              "      <td>False</td>\n",
              "    </tr>\n",
              "  </tbody>\n",
              "</table>\n",
              "</div>"
            ],
            "text/plain": [
              "  ID     y1\n",
              "0  B   True\n",
              "1  C   True\n",
              "2  D  False"
            ]
          },
          "metadata": {
            "tags": []
          },
          "execution_count": 80
        }
      ]
    },
    {
      "cell_type": "code",
      "metadata": {
        "id": "7wAArZFTRPBx",
        "colab_type": "code",
        "colab": {
          "base_uri": "https://localhost:8080/",
          "height": 142
        },
        "outputId": "df2a63b2-dee8-42e7-e708-698f3e10e597"
      },
      "source": [
        "# Join matching rows from dfy to dfx\n",
        "pd.merge(dfx, dfy, how = 'left', on = 'ID')"
      ],
      "execution_count": 83,
      "outputs": [
        {
          "output_type": "execute_result",
          "data": {
            "text/html": [
              "<div>\n",
              "<style scoped>\n",
              "    .dataframe tbody tr th:only-of-type {\n",
              "        vertical-align: middle;\n",
              "    }\n",
              "\n",
              "    .dataframe tbody tr th {\n",
              "        vertical-align: top;\n",
              "    }\n",
              "\n",
              "    .dataframe thead th {\n",
              "        text-align: right;\n",
              "    }\n",
              "</style>\n",
              "<table border=\"1\" class=\"dataframe\">\n",
              "  <thead>\n",
              "    <tr style=\"text-align: right;\">\n",
              "      <th></th>\n",
              "      <th>ID</th>\n",
              "      <th>x1</th>\n",
              "      <th>y1</th>\n",
              "    </tr>\n",
              "  </thead>\n",
              "  <tbody>\n",
              "    <tr>\n",
              "      <th>0</th>\n",
              "      <td>A</td>\n",
              "      <td>1</td>\n",
              "      <td>NaN</td>\n",
              "    </tr>\n",
              "    <tr>\n",
              "      <th>1</th>\n",
              "      <td>B</td>\n",
              "      <td>2</td>\n",
              "      <td>True</td>\n",
              "    </tr>\n",
              "    <tr>\n",
              "      <th>2</th>\n",
              "      <td>C</td>\n",
              "      <td>3</td>\n",
              "      <td>True</td>\n",
              "    </tr>\n",
              "  </tbody>\n",
              "</table>\n",
              "</div>"
            ],
            "text/plain": [
              "  ID  x1    y1\n",
              "0  A   1   NaN\n",
              "1  B   2  True\n",
              "2  C   3  True"
            ]
          },
          "metadata": {
            "tags": []
          },
          "execution_count": 83
        }
      ]
    },
    {
      "cell_type": "code",
      "metadata": {
        "id": "NLsolhpQRfsO",
        "colab_type": "code",
        "colab": {
          "base_uri": "https://localhost:8080/",
          "height": 111
        },
        "outputId": "4d5d1c7f-adac-4836-af14-fe37cf1eebde"
      },
      "source": [
        "# Retain only rows in both sets\n",
        "pd.merge(dfx, dfy, how = 'inner', on = 'ID')"
      ],
      "execution_count": 84,
      "outputs": [
        {
          "output_type": "execute_result",
          "data": {
            "text/html": [
              "<div>\n",
              "<style scoped>\n",
              "    .dataframe tbody tr th:only-of-type {\n",
              "        vertical-align: middle;\n",
              "    }\n",
              "\n",
              "    .dataframe tbody tr th {\n",
              "        vertical-align: top;\n",
              "    }\n",
              "\n",
              "    .dataframe thead th {\n",
              "        text-align: right;\n",
              "    }\n",
              "</style>\n",
              "<table border=\"1\" class=\"dataframe\">\n",
              "  <thead>\n",
              "    <tr style=\"text-align: right;\">\n",
              "      <th></th>\n",
              "      <th>ID</th>\n",
              "      <th>x1</th>\n",
              "      <th>y1</th>\n",
              "    </tr>\n",
              "  </thead>\n",
              "  <tbody>\n",
              "    <tr>\n",
              "      <th>0</th>\n",
              "      <td>B</td>\n",
              "      <td>2</td>\n",
              "      <td>True</td>\n",
              "    </tr>\n",
              "    <tr>\n",
              "      <th>1</th>\n",
              "      <td>C</td>\n",
              "      <td>3</td>\n",
              "      <td>True</td>\n",
              "    </tr>\n",
              "  </tbody>\n",
              "</table>\n",
              "</div>"
            ],
            "text/plain": [
              "  ID  x1    y1\n",
              "0  B   2  True\n",
              "1  C   3  True"
            ]
          },
          "metadata": {
            "tags": []
          },
          "execution_count": 84
        }
      ]
    },
    {
      "cell_type": "code",
      "metadata": {
        "id": "zQQsC2XlSGdE",
        "colab_type": "code",
        "colab": {
          "base_uri": "https://localhost:8080/",
          "height": 173
        },
        "outputId": "f9c474aa-fc42-490f-e02a-f542d311259c"
      },
      "source": [
        "# Retain all values, all rows\n",
        "pd.merge(dfx, dfy, how = 'outer', on = 'ID')"
      ],
      "execution_count": 85,
      "outputs": [
        {
          "output_type": "execute_result",
          "data": {
            "text/html": [
              "<div>\n",
              "<style scoped>\n",
              "    .dataframe tbody tr th:only-of-type {\n",
              "        vertical-align: middle;\n",
              "    }\n",
              "\n",
              "    .dataframe tbody tr th {\n",
              "        vertical-align: top;\n",
              "    }\n",
              "\n",
              "    .dataframe thead th {\n",
              "        text-align: right;\n",
              "    }\n",
              "</style>\n",
              "<table border=\"1\" class=\"dataframe\">\n",
              "  <thead>\n",
              "    <tr style=\"text-align: right;\">\n",
              "      <th></th>\n",
              "      <th>ID</th>\n",
              "      <th>x1</th>\n",
              "      <th>y1</th>\n",
              "    </tr>\n",
              "  </thead>\n",
              "  <tbody>\n",
              "    <tr>\n",
              "      <th>0</th>\n",
              "      <td>A</td>\n",
              "      <td>1.0</td>\n",
              "      <td>NaN</td>\n",
              "    </tr>\n",
              "    <tr>\n",
              "      <th>1</th>\n",
              "      <td>B</td>\n",
              "      <td>2.0</td>\n",
              "      <td>True</td>\n",
              "    </tr>\n",
              "    <tr>\n",
              "      <th>2</th>\n",
              "      <td>C</td>\n",
              "      <td>3.0</td>\n",
              "      <td>True</td>\n",
              "    </tr>\n",
              "    <tr>\n",
              "      <th>3</th>\n",
              "      <td>D</td>\n",
              "      <td>NaN</td>\n",
              "      <td>False</td>\n",
              "    </tr>\n",
              "  </tbody>\n",
              "</table>\n",
              "</div>"
            ],
            "text/plain": [
              "  ID   x1     y1\n",
              "0  A  1.0    NaN\n",
              "1  B  2.0   True\n",
              "2  C  3.0   True\n",
              "3  D  NaN  False"
            ]
          },
          "metadata": {
            "tags": []
          },
          "execution_count": 85
        }
      ]
    },
    {
      "cell_type": "markdown",
      "metadata": {
        "id": "hqpfVIlzS7sy",
        "colab_type": "text"
      },
      "source": [
        "## Reshape data\n",
        "\n",
        "Take a baby subset of our exemplary clothes consumers data to illustrate:"
      ]
    },
    {
      "cell_type": "code",
      "metadata": {
        "id": "Z5tM1Jx3ST9L",
        "colab_type": "code",
        "colab": {
          "base_uri": "https://localhost:8080/",
          "height": 419
        },
        "outputId": "2345c135-f665-4184-9b23-df1f98022dcc"
      },
      "source": [
        "# iloc selects by position \n",
        "sdat = SimDat.iloc[:,0:6].sample(100)\n",
        "sdat"
      ],
      "execution_count": 25,
      "outputs": [
        {
          "output_type": "execute_result",
          "data": {
            "text/html": [
              "<div>\n",
              "<style scoped>\n",
              "    .dataframe tbody tr th:only-of-type {\n",
              "        vertical-align: middle;\n",
              "    }\n",
              "\n",
              "    .dataframe tbody tr th {\n",
              "        vertical-align: top;\n",
              "    }\n",
              "\n",
              "    .dataframe thead th {\n",
              "        text-align: right;\n",
              "    }\n",
              "</style>\n",
              "<table border=\"1\" class=\"dataframe\">\n",
              "  <thead>\n",
              "    <tr style=\"text-align: right;\">\n",
              "      <th></th>\n",
              "      <th>age</th>\n",
              "      <th>gender</th>\n",
              "      <th>income</th>\n",
              "      <th>house</th>\n",
              "      <th>store_exp</th>\n",
              "      <th>online_exp</th>\n",
              "    </tr>\n",
              "  </thead>\n",
              "  <tbody>\n",
              "    <tr>\n",
              "      <th>737</th>\n",
              "      <td>23</td>\n",
              "      <td>Female</td>\n",
              "      <td>81763.916849</td>\n",
              "      <td>No</td>\n",
              "      <td>205.666156</td>\n",
              "      <td>1040.896688</td>\n",
              "    </tr>\n",
              "    <tr>\n",
              "      <th>684</th>\n",
              "      <td>23</td>\n",
              "      <td>Female</td>\n",
              "      <td>89609.949268</td>\n",
              "      <td>No</td>\n",
              "      <td>203.225898</td>\n",
              "      <td>1734.342716</td>\n",
              "    </tr>\n",
              "    <tr>\n",
              "      <th>364</th>\n",
              "      <td>47</td>\n",
              "      <td>Male</td>\n",
              "      <td>140225.820678</td>\n",
              "      <td>No</td>\n",
              "      <td>4387.143342</td>\n",
              "      <td>5211.133625</td>\n",
              "    </tr>\n",
              "    <tr>\n",
              "      <th>80</th>\n",
              "      <td>61</td>\n",
              "      <td>Male</td>\n",
              "      <td>NaN</td>\n",
              "      <td>Yes</td>\n",
              "      <td>358.173344</td>\n",
              "      <td>315.417781</td>\n",
              "    </tr>\n",
              "    <tr>\n",
              "      <th>612</th>\n",
              "      <td>35</td>\n",
              "      <td>Female</td>\n",
              "      <td>73300.171093</td>\n",
              "      <td>No</td>\n",
              "      <td>272.391989</td>\n",
              "      <td>2059.876395</td>\n",
              "    </tr>\n",
              "    <tr>\n",
              "      <th>...</th>\n",
              "      <td>...</td>\n",
              "      <td>...</td>\n",
              "      <td>...</td>\n",
              "      <td>...</td>\n",
              "      <td>...</td>\n",
              "      <td>...</td>\n",
              "    </tr>\n",
              "    <tr>\n",
              "      <th>430</th>\n",
              "      <td>46</td>\n",
              "      <td>Male</td>\n",
              "      <td>217731.681147</td>\n",
              "      <td>Yes</td>\n",
              "      <td>3593.886783</td>\n",
              "      <td>4398.094199</td>\n",
              "    </tr>\n",
              "    <tr>\n",
              "      <th>825</th>\n",
              "      <td>26</td>\n",
              "      <td>Male</td>\n",
              "      <td>96070.678386</td>\n",
              "      <td>Yes</td>\n",
              "      <td>191.649454</td>\n",
              "      <td>1663.719362</td>\n",
              "    </tr>\n",
              "    <tr>\n",
              "      <th>562</th>\n",
              "      <td>45</td>\n",
              "      <td>Female</td>\n",
              "      <td>73857.691171</td>\n",
              "      <td>No</td>\n",
              "      <td>306.127635</td>\n",
              "      <td>2048.518957</td>\n",
              "    </tr>\n",
              "    <tr>\n",
              "      <th>522</th>\n",
              "      <td>42</td>\n",
              "      <td>Female</td>\n",
              "      <td>71264.151240</td>\n",
              "      <td>No</td>\n",
              "      <td>424.963019</td>\n",
              "      <td>1893.200051</td>\n",
              "    </tr>\n",
              "    <tr>\n",
              "      <th>97</th>\n",
              "      <td>59</td>\n",
              "      <td>Female</td>\n",
              "      <td>NaN</td>\n",
              "      <td>No</td>\n",
              "      <td>434.725219</td>\n",
              "      <td>239.825474</td>\n",
              "    </tr>\n",
              "  </tbody>\n",
              "</table>\n",
              "<p>100 rows × 6 columns</p>\n",
              "</div>"
            ],
            "text/plain": [
              "     age  gender         income house    store_exp   online_exp\n",
              "737   23  Female   81763.916849    No   205.666156  1040.896688\n",
              "684   23  Female   89609.949268    No   203.225898  1734.342716\n",
              "364   47    Male  140225.820678    No  4387.143342  5211.133625\n",
              "80    61    Male            NaN   Yes   358.173344   315.417781\n",
              "612   35  Female   73300.171093    No   272.391989  2059.876395\n",
              "..   ...     ...            ...   ...          ...          ...\n",
              "430   46    Male  217731.681147   Yes  3593.886783  4398.094199\n",
              "825   26    Male   96070.678386   Yes   191.649454  1663.719362\n",
              "562   45  Female   73857.691171    No   306.127635  2048.518957\n",
              "522   42  Female   71264.151240    No   424.963019  1893.200051\n",
              "97    59  Female            NaN    No   434.725219   239.825474\n",
              "\n",
              "[100 rows x 6 columns]"
            ]
          },
          "metadata": {
            "tags": []
          },
          "execution_count": 25
        }
      ]
    },
    {
      "cell_type": "markdown",
      "metadata": {
        "id": "3M4-9bQRU6c2",
        "colab_type": "text"
      },
      "source": [
        "For the above data `sdat`, what if we want to have a variable indicating the purchasing channel (i.e. online or in-store) and another column with the corresponding expense amount? Assume we want to keep the rest of the columns the same. It is a task to change data from “wide” to “long”. There are two general ways to shape data:\n",
        "\n",
        "- Use `melt()` to convert an object into a molten data frame, i.e., from wide to long\n",
        "- Use `pivot()` to cast a molten data frame into the shape you want, i.e., from long to wide"
      ]
    },
    {
      "cell_type": "code",
      "metadata": {
        "id": "L-RXW_qbUzlI",
        "colab_type": "code",
        "colab": {
          "base_uri": "https://localhost:8080/",
          "height": 419
        },
        "outputId": "e4ffd7a0-35f1-45ba-8922-62ac8870d164"
      },
      "source": [
        "sdat_melt = pd.melt(sdat, \n",
        "        id_vars = ['age', 'gender', 'income',\t'house'],  \n",
        "        value_vars= [\"store_exp\", \"online_exp\"], \n",
        "        var_name = 'Channel',  \n",
        "        value_name = 'Expense')\n",
        "\n",
        "sdat_melt"
      ],
      "execution_count": 41,
      "outputs": [
        {
          "output_type": "execute_result",
          "data": {
            "text/html": [
              "<div>\n",
              "<style scoped>\n",
              "    .dataframe tbody tr th:only-of-type {\n",
              "        vertical-align: middle;\n",
              "    }\n",
              "\n",
              "    .dataframe tbody tr th {\n",
              "        vertical-align: top;\n",
              "    }\n",
              "\n",
              "    .dataframe thead th {\n",
              "        text-align: right;\n",
              "    }\n",
              "</style>\n",
              "<table border=\"1\" class=\"dataframe\">\n",
              "  <thead>\n",
              "    <tr style=\"text-align: right;\">\n",
              "      <th></th>\n",
              "      <th>age</th>\n",
              "      <th>gender</th>\n",
              "      <th>income</th>\n",
              "      <th>house</th>\n",
              "      <th>Channel</th>\n",
              "      <th>Expense</th>\n",
              "    </tr>\n",
              "  </thead>\n",
              "  <tbody>\n",
              "    <tr>\n",
              "      <th>0</th>\n",
              "      <td>23</td>\n",
              "      <td>Female</td>\n",
              "      <td>81763.916849</td>\n",
              "      <td>No</td>\n",
              "      <td>store_exp</td>\n",
              "      <td>205.666156</td>\n",
              "    </tr>\n",
              "    <tr>\n",
              "      <th>1</th>\n",
              "      <td>23</td>\n",
              "      <td>Female</td>\n",
              "      <td>89609.949268</td>\n",
              "      <td>No</td>\n",
              "      <td>store_exp</td>\n",
              "      <td>203.225898</td>\n",
              "    </tr>\n",
              "    <tr>\n",
              "      <th>2</th>\n",
              "      <td>47</td>\n",
              "      <td>Male</td>\n",
              "      <td>140225.820678</td>\n",
              "      <td>No</td>\n",
              "      <td>store_exp</td>\n",
              "      <td>4387.143342</td>\n",
              "    </tr>\n",
              "    <tr>\n",
              "      <th>3</th>\n",
              "      <td>61</td>\n",
              "      <td>Male</td>\n",
              "      <td>NaN</td>\n",
              "      <td>Yes</td>\n",
              "      <td>store_exp</td>\n",
              "      <td>358.173344</td>\n",
              "    </tr>\n",
              "    <tr>\n",
              "      <th>4</th>\n",
              "      <td>35</td>\n",
              "      <td>Female</td>\n",
              "      <td>73300.171093</td>\n",
              "      <td>No</td>\n",
              "      <td>store_exp</td>\n",
              "      <td>272.391989</td>\n",
              "    </tr>\n",
              "    <tr>\n",
              "      <th>...</th>\n",
              "      <td>...</td>\n",
              "      <td>...</td>\n",
              "      <td>...</td>\n",
              "      <td>...</td>\n",
              "      <td>...</td>\n",
              "      <td>...</td>\n",
              "    </tr>\n",
              "    <tr>\n",
              "      <th>195</th>\n",
              "      <td>46</td>\n",
              "      <td>Male</td>\n",
              "      <td>217731.681147</td>\n",
              "      <td>Yes</td>\n",
              "      <td>online_exp</td>\n",
              "      <td>4398.094199</td>\n",
              "    </tr>\n",
              "    <tr>\n",
              "      <th>196</th>\n",
              "      <td>26</td>\n",
              "      <td>Male</td>\n",
              "      <td>96070.678386</td>\n",
              "      <td>Yes</td>\n",
              "      <td>online_exp</td>\n",
              "      <td>1663.719362</td>\n",
              "    </tr>\n",
              "    <tr>\n",
              "      <th>197</th>\n",
              "      <td>45</td>\n",
              "      <td>Female</td>\n",
              "      <td>73857.691171</td>\n",
              "      <td>No</td>\n",
              "      <td>online_exp</td>\n",
              "      <td>2048.518957</td>\n",
              "    </tr>\n",
              "    <tr>\n",
              "      <th>198</th>\n",
              "      <td>42</td>\n",
              "      <td>Female</td>\n",
              "      <td>71264.151240</td>\n",
              "      <td>No</td>\n",
              "      <td>online_exp</td>\n",
              "      <td>1893.200051</td>\n",
              "    </tr>\n",
              "    <tr>\n",
              "      <th>199</th>\n",
              "      <td>59</td>\n",
              "      <td>Female</td>\n",
              "      <td>NaN</td>\n",
              "      <td>No</td>\n",
              "      <td>online_exp</td>\n",
              "      <td>239.825474</td>\n",
              "    </tr>\n",
              "  </tbody>\n",
              "</table>\n",
              "<p>200 rows × 6 columns</p>\n",
              "</div>"
            ],
            "text/plain": [
              "     age  gender         income house     Channel      Expense\n",
              "0     23  Female   81763.916849    No   store_exp   205.666156\n",
              "1     23  Female   89609.949268    No   store_exp   203.225898\n",
              "2     47    Male  140225.820678    No   store_exp  4387.143342\n",
              "3     61    Male            NaN   Yes   store_exp   358.173344\n",
              "4     35  Female   73300.171093    No   store_exp   272.391989\n",
              "..   ...     ...            ...   ...         ...          ...\n",
              "195   46    Male  217731.681147   Yes  online_exp  4398.094199\n",
              "196   26    Male   96070.678386   Yes  online_exp  1663.719362\n",
              "197   45  Female   73857.691171    No  online_exp  2048.518957\n",
              "198   42  Female   71264.151240    No  online_exp  1893.200051\n",
              "199   59  Female            NaN    No  online_exp   239.825474\n",
              "\n",
              "[200 rows x 6 columns]"
            ]
          },
          "metadata": {
            "tags": []
          },
          "execution_count": 41
        }
      ]
    },
    {
      "cell_type": "markdown",
      "metadata": {
        "id": "XJKbLXTwWOCv",
        "colab_type": "text"
      },
      "source": [
        "You melted the data frame `sdat` by two variables: `store_exp` and `online_exp` (`value_vars= [\"store_exp\", \"online_exp\"]`). The new variable name is `Channel` set by command `var_name = 'Channel'`. The value name is Expense set by command `value_name = 'Expense'`.\n",
        "\n",
        "Sometimes we want to convert the data from “long” to “wide”. For example, you want to compare the online and in-store expense between male and female based on the house ownership."
      ]
    },
    {
      "cell_type": "code",
      "metadata": {
        "id": "wp_3HKCVIp6o",
        "colab_type": "code",
        "colab": {
          "base_uri": "https://localhost:8080/",
          "height": 204
        },
        "outputId": "de85a3e0-8f88-4771-e514-7962f560c7a7"
      },
      "source": [
        "sdat_pivot = (sdat_melt\n",
        "              .pivot_table( values='Expense',\n",
        "                           index=['gender','house'],\n",
        "                           columns='Channel', \n",
        "                           aggfunc=np.mean)\n",
        "  )\n",
        "sdat_pivot"
      ],
      "execution_count": 51,
      "outputs": [
        {
          "output_type": "execute_result",
          "data": {
            "text/html": [
              "<div>\n",
              "<style scoped>\n",
              "    .dataframe tbody tr th:only-of-type {\n",
              "        vertical-align: middle;\n",
              "    }\n",
              "\n",
              "    .dataframe tbody tr th {\n",
              "        vertical-align: top;\n",
              "    }\n",
              "\n",
              "    .dataframe thead th {\n",
              "        text-align: right;\n",
              "    }\n",
              "</style>\n",
              "<table border=\"1\" class=\"dataframe\">\n",
              "  <thead>\n",
              "    <tr style=\"text-align: right;\">\n",
              "      <th></th>\n",
              "      <th>Channel</th>\n",
              "      <th>online_exp</th>\n",
              "      <th>store_exp</th>\n",
              "    </tr>\n",
              "    <tr>\n",
              "      <th>gender</th>\n",
              "      <th>house</th>\n",
              "      <th></th>\n",
              "      <th></th>\n",
              "    </tr>\n",
              "  </thead>\n",
              "  <tbody>\n",
              "    <tr>\n",
              "      <th rowspan=\"2\" valign=\"top\">Female</th>\n",
              "      <th>No</th>\n",
              "      <td>2017.491842</td>\n",
              "      <td>353.800760</td>\n",
              "    </tr>\n",
              "    <tr>\n",
              "      <th>Yes</th>\n",
              "      <td>2378.192391</td>\n",
              "      <td>1166.969056</td>\n",
              "    </tr>\n",
              "    <tr>\n",
              "      <th rowspan=\"2\" valign=\"top\">Male</th>\n",
              "      <th>No</th>\n",
              "      <td>2332.378214</td>\n",
              "      <td>741.731604</td>\n",
              "    </tr>\n",
              "    <tr>\n",
              "      <th>Yes</th>\n",
              "      <td>1934.985999</td>\n",
              "      <td>1578.206157</td>\n",
              "    </tr>\n",
              "  </tbody>\n",
              "</table>\n",
              "</div>"
            ],
            "text/plain": [
              "Channel        online_exp    store_exp\n",
              "gender house                          \n",
              "Female No     2017.491842   353.800760\n",
              "       Yes    2378.192391  1166.969056\n",
              "Male   No     2332.378214   741.731604\n",
              "       Yes    1934.985999  1578.206157"
            ]
          },
          "metadata": {
            "tags": []
          },
          "execution_count": 51
        }
      ]
    }
  ]
}